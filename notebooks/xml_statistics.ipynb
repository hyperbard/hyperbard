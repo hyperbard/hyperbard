{
 "cells": [
  {
   "cell_type": "markdown",
   "id": "2ce214ff-2775-41bb-aa22-23df8fd84d6f",
   "metadata": {
    "tags": []
   },
   "source": [
    "## XML Statistics for Sanity Checks"
   ]
  },
  {
   "cell_type": "code",
   "execution_count": null,
   "id": "036a6a1b-0fd0-4850-91e1-8056cf0f0a83",
   "metadata": {},
   "outputs": [],
   "source": [
    "import os\n",
    "from glob import glob\n",
    "import requests\n",
    "from random import random\n",
    "from time import sleep\n",
    "from collections import Counter\n",
    "\n",
    "import regex as re\n",
    "import pandas as pd\n",
    "from bs4 import BeautifulSoup"
   ]
  },
  {
   "cell_type": "code",
   "execution_count": null,
   "id": "f32e5929-99a7-433f-8849-ce8f237d39e0",
   "metadata": {},
   "outputs": [],
   "source": [
    "files = sorted(glob(\"../rawdata/**.xml\"))"
   ]
  },
  {
   "cell_type": "code",
   "execution_count": null,
   "id": "9dedbc4e-a8b0-4d10-9a07-63a3b2789c69",
   "metadata": {},
   "outputs": [],
   "source": [
    "def generate_xml_statistics(xml_counter, counted_name, files):\n",
    "    dfs = dict()\n",
    "    for file in files:\n",
    "        with open(file) as f:\n",
    "            filename = file.split(\"/\")[-1].split(\"_\")[0]\n",
    "            soup = BeautifulSoup(f, \"lxml-xml\")\n",
    "            dfs[filename] = pd.DataFrame(xml_counter(soup).most_common(), columns=[counted_name,f\"c_{filename}\"]).set_index(counted_name)\n",
    "            print(\"Done:\", filename)\n",
    "    df = pd.concat(dfs.values(), axis=1).fillna(0).astype(int)\n",
    "    df[\"c_total\"] = df.sum(axis=1)\n",
    "    df = df.sort_values(\"c_total\", ascending=False)[[df.columns[-1],*df.columns[:-1]]]\n",
    "    return df"
   ]
  },
  {
   "cell_type": "markdown",
   "id": "9cb8e3a1-961e-4010-bbb7-af75c3f9558f",
   "metadata": {
    "tags": []
   },
   "source": [
    "### Path Counts"
   ]
  },
  {
   "cell_type": "code",
   "execution_count": null,
   "id": "50d61177-1a89-4df6-bb22-f798f0f575b3",
   "metadata": {},
   "outputs": [],
   "source": [
    "xml_counter = lambda soup: Counter(\"/\".join(reversed([t.name,*tuple(p.name for p in t.parents)])) for t in soup.descendants if t.name is not None)\n",
    "counted_name = \"path\"\n",
    "df = generate_xml_statistics(xml_counter, counted_name, files)\n",
    "df.to_csv(f\"../rawdata_statistics/xml_{counted_name}_counts.csv\")"
   ]
  },
  {
   "cell_type": "markdown",
   "id": "77855271-df3e-44a5-8ce2-6d0e565772ea",
   "metadata": {},
   "source": [
    "### Tag Counts"
   ]
  },
  {
   "cell_type": "code",
   "execution_count": null,
   "id": "5da3313e-22a8-4e73-8e60-20c2b161c513",
   "metadata": {},
   "outputs": [],
   "source": [
    "xml_counter = lambda soup: Counter(t.name for t in soup.descendants if t.name is not None)\n",
    "counted_name = \"tag\"\n",
    "df = generate_xml_statistics(xml_counter, counted_name, files)\n",
    "df.to_csv(f\"../rawdata_statistics/xml_{counted_name}_counts.csv\")"
   ]
  },
  {
   "cell_type": "markdown",
   "id": "bdcfd633-fd88-4960-927a-435a53a5e14f",
   "metadata": {},
   "source": [
    "### Attribute Counts"
   ]
  },
  {
   "cell_type": "code",
   "execution_count": null,
   "id": "878805c6-612e-484b-a513-f0d1de297f6b",
   "metadata": {},
   "outputs": [],
   "source": [
    "xml_counter = lambda soup: Counter(t.name + \"/\" + \"|\".join(sorted(t.attrs.keys())) for t in soup.descendants if t.name is not None)\n",
    "counted_name = \"tag_attrs\"\n",
    "df = generate_xml_statistics(xml_counter, counted_name, files)\n",
    "df.to_csv(f\"../rawdata_statistics/xml_{counted_name}_counts.csv\")"
   ]
  },
  {
   "cell_type": "markdown",
   "id": "301aec88-e975-4528-b6f7-578b6888ba76",
   "metadata": {},
   "source": [
    "### Tag Descriptions"
   ]
  },
  {
   "cell_type": "code",
   "execution_count": null,
   "id": "d785d719-b4b4-4c2e-9a5d-d42730648f5c",
   "metadata": {},
   "outputs": [],
   "source": [
    "def make_tag_url(tag):\n",
    "    return f\"https://tei-c.org/release/doc/tei-p5-doc/en/html/ref-{tag}.html\"\n",
    "\n",
    "def get_tag_description(tag_url):\n",
    "    res = requests.get(tag_url)\n",
    "    if res.status_code == 200:\n",
    "        soup = BeautifulSoup(res.text)\n",
    "        sleep(random())\n",
    "        return soup.table.tr.td.text\n",
    "    else: \n",
    "        raise Exception(res)"
   ]
  },
  {
   "cell_type": "code",
   "execution_count": null,
   "id": "6eeaf326-6529-4860-aac9-7004140f3a1d",
   "metadata": {},
   "outputs": [],
   "source": [
    "df = pd.read_csv(\"../rawdata_statistics/xml_tag_counts.csv\")"
   ]
  },
  {
   "cell_type": "code",
   "execution_count": null,
   "id": "620d9e7f-3cc5-4537-9b63-5c4bdc7b5899",
   "metadata": {},
   "outputs": [],
   "source": [
    "df_tag_descriptions = pd.DataFrame(index=df.tag,columns=[\"url\",\"description\"], data=\"\")\n",
    "df_tag_descriptions[\"url\"] = df_tag_descriptions.index.map(make_tag_url)\n",
    "df_tag_descriptions[\"description\"] = df_tag_descriptions.url.map(get_tag_description) # this takes a bit of time b/c I am being nice to the server"
   ]
  },
  {
   "cell_type": "code",
   "execution_count": null,
   "id": "e1c63dad-8303-4c23-b5dc-26aa780fb950",
   "metadata": {},
   "outputs": [],
   "source": [
    "df_tag_descriptions[\"description\"] = df_tag_descriptions.description.map(lambda desc:re.sub(\"\\s+\",\" \", desc.strip()))"
   ]
  },
  {
   "cell_type": "code",
   "execution_count": null,
   "id": "d7157fdd-a85a-403b-8cc3-66b0d5d4a7aa",
   "metadata": {},
   "outputs": [],
   "source": [
    "df_tag_descriptions[[\"description\",\"url\"]].to_csv(\"../rawdata_statistics/xml_tag_descriptions.csv\")"
   ]
  },
  {
   "cell_type": "code",
   "execution_count": null,
   "id": "1a68fa47-8a86-4f74-868b-616c1019683d",
   "metadata": {},
   "outputs": [],
   "source": []
  }
 ],
 "metadata": {
  "kernelspec": {
   "display_name": "Python 3 (ipykernel)",
   "language": "python",
   "name": "python3"
  },
  "language_info": {
   "codemirror_mode": {
    "name": "ipython",
    "version": 3
   },
   "file_extension": ".py",
   "mimetype": "text/x-python",
   "name": "python",
   "nbconvert_exporter": "python",
   "pygments_lexer": "ipython3",
   "version": "3.8.0"
  }
 },
 "nbformat": 4,
 "nbformat_minor": 5
}
