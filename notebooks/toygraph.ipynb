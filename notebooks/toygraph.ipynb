{
 "cells": [
  {
   "cell_type": "code",
   "execution_count": null,
   "id": "712e73aa-77bf-4a83-9d07-b1ed402d6b47",
   "metadata": {},
   "outputs": [],
   "source": [
    "import hypernetx as hnx"
   ]
  },
  {
   "cell_type": "code",
   "execution_count": null,
   "id": "f69ce872-87b1-4ca0-9e7a-0acec7c83ce7",
   "metadata": {},
   "outputs": [],
   "source": [
    "A = \"A\"\n",
    "B = \"B\"\n",
    "C = \"C\"\n",
    "D = \"D\"\n",
    "E = \"E\"\n",
    "characters = [A, B, C, D, E]\n",
    "interactions = [[A], [A, B], [C, B, A], [C, B], [C], [C, D], [A,B,C,D,E]]"
   ]
  },
  {
   "cell_type": "code",
   "execution_count": null,
   "id": "0aeb11a6-b2e3-43dc-b341-fa0dd679e642",
   "metadata": {},
   "outputs": [],
   "source": [
    "H = hnx.Hypergraph([sorted(x) for x in interactions])"
   ]
  },
  {
   "cell_type": "code",
   "execution_count": null,
   "id": "d2b42334-6b98-42d6-915e-165aaf879342",
   "metadata": {},
   "outputs": [],
   "source": [
    "import matplotlib.pyplot as plt\n",
    "from matplotlib.text import Annotation\n",
    "import matplotlib.patheffects as PathEffects\n",
    "from matplotlib import cm\n",
    "import networkx as nx"
   ]
  },
  {
   "cell_type": "code",
   "execution_count": null,
   "id": "c3f3f9ca-f2bb-4020-aef2-407e7f473855",
   "metadata": {},
   "outputs": [],
   "source": [
    "plt.rcParams[\"font.family\"] = \"serif\"\n",
    "plt.rcParams[\"font.serif\"] = \"Palatino\"\n",
    "plt.rcParams[\"text.usetex\"] = True\n",
    "plt.rcParams['pdf.fonttype'] = 42\n",
    "plt.rcParams['font.size'] = 56"
   ]
  },
  {
   "cell_type": "code",
   "execution_count": null,
   "id": "00ea8096-3a2c-434a-b27e-38ffb1b5f802",
   "metadata": {},
   "outputs": [],
   "source": [
    "seed = 12\n",
    "fig, ax = plt.subplots(1,1,figsize=(7,7))\n",
    "hnx.draw(H, edge_labels={i.uid:int(i.uid)+1 for i in H.edges()}, layout_kwargs=dict(seed=1234), edges_kwargs=dict(\n",
    "            edgecolors=[cm.viridis_r(x/H.number_of_edges()) for x in range(H.number_of_edges())],\n",
    "            lw=3,dr=0.0), label_alpha=0, node_radius=2.75\n",
    "        )\n",
    "for child in ax.get_children():\n",
    "        if isinstance(child, Annotation):\n",
    "            child.set_path_effects([PathEffects.withStroke(linewidth=5, foreground='w')])\n",
    "plt.tight_layout()\n",
    "plt.savefig(\"toy_drama_hg.pdf\", backend=\"pgf\", bbox_inches=\"tight\", transparent=True)"
   ]
  },
  {
   "cell_type": "code",
   "execution_count": null,
   "id": "ea4b7714-6a43-48ee-916b-7f532b42ae4f",
   "metadata": {},
   "outputs": [],
   "source": [
    "bG = H.bipartite()"
   ]
  },
  {
   "cell_type": "code",
   "execution_count": null,
   "id": "004ecae4-1e7c-4bf1-8b2b-ebe1dc71570b",
   "metadata": {},
   "outputs": [],
   "source": [
    "fig, ax = plt.subplots(1,1,figsize=(7,7))\n",
    "pos = {**{k:(0,1-(idx/4)) for idx,k in enumerate([n for n,b in bG.nodes(data=\"bipartite\") if b == 0])},\n",
    "       **{k:(1,1-(idx/6)) for idx,k in enumerate([n for n,b in bG.nodes(data=\"bipartite\") if b == 1])}\n",
    "      }\n",
    "nx.draw_networkx_edges(bG, pos=pos)\n",
    "for n,position in pos.items():\n",
    "    if n.isnumeric():\n",
    "        label = int(n) + 1\n",
    "    else:\n",
    "        label = n\n",
    "    txt = ax.annotate(label,position,ha=\"center\",va=\"center\")\n",
    "    txt.set_path_effects([PathEffects.withStroke(linewidth=5, foreground='w')])\n",
    "plt.axis(\"off\")\n",
    "plt.tight_layout()\n",
    "plt.savefig(\"toy_drama_se.pdf\", backend=\"pgf\", bbox_inches=\"tight\", transparent=True)"
   ]
  },
  {
   "cell_type": "code",
   "execution_count": null,
   "id": "1ebbd535-1d77-46a7-bd7a-fe3f9d9c458d",
   "metadata": {},
   "outputs": [],
   "source": [
    "G = nx.bipartite.projection.projected_graph(bG, characters)"
   ]
  },
  {
   "cell_type": "code",
   "execution_count": null,
   "id": "4ff0b151-c275-4b92-b6d3-e7fc692e24fe",
   "metadata": {},
   "outputs": [],
   "source": [
    "fig, ax = plt.subplots(1,1,figsize=(7,7))\n",
    "pos = nx.circular_layout(G)\n",
    "nx.draw_networkx_edges(G, pos=pos)\n",
    "for n,position in pos.items():\n",
    "    if n.isnumeric():\n",
    "        label = int(n) + 1\n",
    "    else:\n",
    "        label = n\n",
    "    txt = ax.annotate(label,position,ha=\"center\",va=\"center\")\n",
    "    txt.set_path_effects([PathEffects.withStroke(linewidth=5, foreground='w')])\n",
    "plt.axis(\"off\")\n",
    "plt.tight_layout()\n",
    "plt.savefig(\"toy_drama_ce.pdf\", backend=\"pgf\", bbox_inches=\"tight\", transparent=True)"
   ]
  },
  {
   "cell_type": "code",
   "execution_count": null,
   "id": "82fd4af5-fcbc-4ace-b66b-4f00dc83fd7c",
   "metadata": {},
   "outputs": [],
   "source": []
  }
 ],
 "metadata": {
  "kernelspec": {
   "display_name": "Python 3 (ipykernel)",
   "language": "python",
   "name": "python3"
  },
  "language_info": {
   "codemirror_mode": {
    "name": "ipython",
    "version": 3
   },
   "file_extension": ".py",
   "mimetype": "text/x-python",
   "name": "python",
   "nbconvert_exporter": "python",
   "pygments_lexer": "ipython3",
   "version": "3.8.0"
  }
 },
 "nbformat": 4,
 "nbformat_minor": 5
}
